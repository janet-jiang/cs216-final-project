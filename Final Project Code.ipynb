{
 "cells": [
  {
   "cell_type": "code",
   "execution_count": 1,
   "id": "6748d175",
   "metadata": {},
   "outputs": [],
   "source": [
    "import numpy as np\n",
    "import pandas as pd\n",
    "import seaborn as sns\n",
    "from scipy import stats\n",
    "import sqlite3"
   ]
  },
  {
   "cell_type": "code",
   "execution_count": 2,
   "id": "06a792cf",
   "metadata": {},
   "outputs": [
    {
     "data": {
      "text/html": [
       "<div>\n",
       "<style scoped>\n",
       "    .dataframe tbody tr th:only-of-type {\n",
       "        vertical-align: middle;\n",
       "    }\n",
       "\n",
       "    .dataframe tbody tr th {\n",
       "        vertical-align: top;\n",
       "    }\n",
       "\n",
       "    .dataframe thead th {\n",
       "        text-align: right;\n",
       "    }\n",
       "</style>\n",
       "<table border=\"1\" class=\"dataframe\">\n",
       "  <thead>\n",
       "    <tr style=\"text-align: right;\">\n",
       "      <th></th>\n",
       "      <th>AVG CO2 EMISSIONS</th>\n",
       "    </tr>\n",
       "  </thead>\n",
       "  <tbody>\n",
       "    <tr>\n",
       "      <th>1960</th>\n",
       "      <td>15.999779</td>\n",
       "    </tr>\n",
       "    <tr>\n",
       "      <th>1961</th>\n",
       "      <td>15.681256</td>\n",
       "    </tr>\n",
       "    <tr>\n",
       "      <th>1962</th>\n",
       "      <td>16.013937</td>\n",
       "    </tr>\n",
       "    <tr>\n",
       "      <th>1963</th>\n",
       "      <td>16.482762</td>\n",
       "    </tr>\n",
       "    <tr>\n",
       "      <th>1964</th>\n",
       "      <td>16.968119</td>\n",
       "    </tr>\n",
       "  </tbody>\n",
       "</table>\n",
       "</div>"
      ],
      "text/plain": [
       "      AVG CO2 EMISSIONS\n",
       "1960          15.999779\n",
       "1961          15.681256\n",
       "1962          16.013937\n",
       "1963          16.482762\n",
       "1964          16.968119"
      ]
     },
     "execution_count": 2,
     "metadata": {},
     "output_type": "execute_result"
    }
   ],
   "source": [
    "co2 = pd.read_csv('CO2_Emissions_1960-2018.csv')\n",
    "# co2.head()\n",
    "usa_co2 = co2[co2[\"Country Name\"] == \"United States\"].transpose()\n",
    "usa_co2 = usa_co2[1:].astype('float64')\n",
    "usa_co2 = usa_co2.rename(columns={251: 'AVG CO2 EMISSIONS'})\n",
    "usa_co2.index = usa_co2.index.astype('int64')\n",
    "usa_co2.head()"
   ]
  },
  {
   "cell_type": "code",
   "execution_count": null,
   "id": "2a60901f",
   "metadata": {},
   "outputs": [],
   "source": []
  },
  {
   "cell_type": "code",
   "execution_count": null,
   "id": "39a1f750",
   "metadata": {},
   "outputs": [],
   "source": [
    "con = sqlite3.connect(\"FPA_FOD_20170508.sqlite\")\n",
    "# c = con.cursor()\n",
    "# c.execute(\"SELECT name FROM sqlite_master WHERE type='table';\")\n",
    "# print(c.fetchall())\n",
    "fires_df = pd.read_sql_query(\"SELECT * from Fires\", con)"
   ]
  },
  {
   "cell_type": "code",
   "execution_count": null,
   "id": "e46795f4",
   "metadata": {},
   "outputs": [],
   "source": [
    "print(list(fires_df.columns))\n",
    "fires_df.head()"
   ]
  },
  {
   "cell_type": "code",
   "execution_count": null,
   "id": "0755e6d7",
   "metadata": {},
   "outputs": [],
   "source": [
    "fire_count_df = fires_df.groupby(\"FIRE_YEAR\")[\"OBJECTID\"].count().to_frame().astype('float64')\n",
    "fire_size_df = fires_df.groupby(\"FIRE_YEAR\")[\"FIRE_SIZE\"].mean().to_frame().astype('float64')\n",
    "# print(fire_size_df)\n",
    "# usa_co2.loc[1992:2015]"
   ]
  },
  {
   "cell_type": "code",
   "execution_count": null,
   "id": "e4568502",
   "metadata": {},
   "outputs": [],
   "source": [
    "to_analyze = pd.concat([fire_count_df[:2015], usa_co2.loc[1992:2015], fire_size_df], axis=1)\n",
    "to_analyze.rename(columns={'OBJECTID': 'FIRE COUNT'}, inplace=True)\n",
    "to_analyze[\"FIRE COUNT\"] /= 1000\n",
    "# fire count represented in thousands\n",
    "# co2 is metric tons per capita\n",
    "# fire size is avg size of all fires in that year\n",
    "to_analyze"
   ]
  },
  {
   "cell_type": "code",
   "execution_count": null,
   "id": "d4b7b798",
   "metadata": {},
   "outputs": [],
   "source": [
    "sns.lineplot(data=to_analyze,x=to_analyze.index,y=\"AVG CO2 EMISSIONS\",label=\"AVG CO2 EMISSIONS\")"
   ]
  },
  {
   "cell_type": "code",
   "execution_count": null,
   "id": "a43cef2b",
   "metadata": {},
   "outputs": [],
   "source": [
    "sns.lineplot(data=to_analyze,x=to_analyze.index,y=\"FIRE COUNT\",label=\"FIRE COUNT\")"
   ]
  },
  {
   "cell_type": "code",
   "execution_count": null,
   "id": "d021e43d",
   "metadata": {},
   "outputs": [],
   "source": [
    "sns.relplot(x=\"AVG CO2 EMISSIONS\",y=\"FIRE COUNT\",data=to_analyze,hue='FIRE_SIZE')"
   ]
  },
  {
   "cell_type": "code",
   "execution_count": null,
   "id": "29a20439",
   "metadata": {},
   "outputs": [],
   "source": [
    "# print(to_analyze['AVG CO2 EMISSIONS'].corr(to_analyze['FIRE COUNT']))\n",
    "\n",
    "cor_count, p_count = stats.pearsonr(to_analyze['AVG CO2 EMISSIONS'], to_analyze['FIRE COUNT'])\n",
    "cor_size, p_size = stats.pearsonr(to_analyze['AVG CO2 EMISSIONS'], to_analyze['FIRE_SIZE'])\n",
    "\n",
    "print(f'Correlation between emissions and fire count: {cor_count}, p = {p_count}')\n",
    "print(f'Correlation between emissions and fire size: {cor_size}, p = {p_size}')"
   ]
  },
  {
   "cell_type": "code",
   "execution_count": null,
   "id": "a01a62b4",
   "metadata": {},
   "outputs": [],
   "source": [
    "east = [\"ME\",\"NH\",\"VT\",\"MA\",\"RI\",\"CT\",\"NJ\",\"DE\",\"MD\",\"NY\",\"PA\",\"VA\",\"WV\",\"NC\",\"SC\",\"GA\",\"FL\",\"OH\",\"KY\",\"TN\",\"AL\",\"MS\",\"WI\",\"IL\",\"IN\",\"MI\"]\n",
    "west = [\"WA\",\"OR\",\"CA\",\"NV\",\"ID\",\"UT\",\"AZ\",\"MT\",\"AK\",\"HI\",\"WY\",\"CO\",\"NM\",\"TX\",\"ND\",\"SD\",\"NE\",\"KS\",\"OK\",\"LA\",\"AR\",\"MO\",\"IA\",\"MN\"]\n",
    "\n",
    "by_state = fires_df.groupby(\"STATE\")[\"OBJECTID\"].count().to_frame()\n",
    "east_fires = fires_df[fires_df[\"STATE\"].isin(east)]\n",
    "west_fires = fires_df[fires_df[\"STATE\"].isin(west)]\n",
    "print(east_fires.shape[0])\n",
    "print(west_fires.shape[0])"
   ]
  },
  {
   "cell_type": "code",
   "execution_count": null,
   "id": "fd1a2349",
   "metadata": {},
   "outputs": [],
   "source": []
  },
  {
   "cell_type": "code",
   "execution_count": null,
   "id": "2d358bd7",
   "metadata": {},
   "outputs": [],
   "source": []
  }
 ],
 "metadata": {
  "kernelspec": {
   "display_name": "Python 3 (ipykernel)",
   "language": "python",
   "name": "python3"
  },
  "language_info": {
   "codemirror_mode": {
    "name": "ipython",
    "version": 3
   },
   "file_extension": ".py",
   "mimetype": "text/x-python",
   "name": "python",
   "nbconvert_exporter": "python",
   "pygments_lexer": "ipython3",
   "version": "3.9.12"
  }
 },
 "nbformat": 4,
 "nbformat_minor": 5
}
