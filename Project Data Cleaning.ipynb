{
 "cells": [
  {
   "cell_type": "code",
   "execution_count": 1,
   "id": "6748d175",
   "metadata": {},
   "outputs": [],
   "source": [
    "import numpy as np\n",
    "import pandas as pd\n",
    "import seaborn as sns\n",
    "from scipy import stats\n",
    "import sqlite3"
   ]
  },
  {
   "cell_type": "code",
   "execution_count": 26,
   "id": "06a792cf",
   "metadata": {},
   "outputs": [
    {
     "data": {
      "text/html": [
       "<div>\n",
       "<style scoped>\n",
       "    .dataframe tbody tr th:only-of-type {\n",
       "        vertical-align: middle;\n",
       "    }\n",
       "\n",
       "    .dataframe tbody tr th {\n",
       "        vertical-align: top;\n",
       "    }\n",
       "\n",
       "    .dataframe thead th {\n",
       "        text-align: right;\n",
       "    }\n",
       "</style>\n",
       "<table border=\"1\" class=\"dataframe\">\n",
       "  <thead>\n",
       "    <tr style=\"text-align: right;\">\n",
       "      <th></th>\n",
       "      <th>251</th>\n",
       "    </tr>\n",
       "  </thead>\n",
       "  <tbody>\n",
       "    <tr>\n",
       "      <th>1960</th>\n",
       "      <td>15.999779</td>\n",
       "    </tr>\n",
       "    <tr>\n",
       "      <th>1961</th>\n",
       "      <td>15.681256</td>\n",
       "    </tr>\n",
       "    <tr>\n",
       "      <th>1962</th>\n",
       "      <td>16.013937</td>\n",
       "    </tr>\n",
       "    <tr>\n",
       "      <th>1963</th>\n",
       "      <td>16.482762</td>\n",
       "    </tr>\n",
       "    <tr>\n",
       "      <th>1964</th>\n",
       "      <td>16.968119</td>\n",
       "    </tr>\n",
       "  </tbody>\n",
       "</table>\n",
       "</div>"
      ],
      "text/plain": [
       "            251\n",
       "1960  15.999779\n",
       "1961  15.681256\n",
       "1962  16.013937\n",
       "1963  16.482762\n",
       "1964  16.968119"
      ]
     },
     "execution_count": 26,
     "metadata": {},
     "output_type": "execute_result"
    }
   ],
   "source": [
    "co2 = pd.read_csv('CO2_Emissions_1960-2018.csv')\n",
    "co2.head()\n",
    "USA = co2[co2[\"Country Name\"]==\"United States\"]\n",
    "USA = USA.transpose()\n",
    "USA = USA[1:]\n",
    "USA.index = USA.index.astype(\"int64\")"
   ]
  },
  {
   "cell_type": "code",
   "execution_count": 24,
   "id": "2a60901f",
   "metadata": {},
   "outputs": [
    {
     "data": {
      "text/html": [
       "<div>\n",
       "<style scoped>\n",
       "    .dataframe tbody tr th:only-of-type {\n",
       "        vertical-align: middle;\n",
       "    }\n",
       "\n",
       "    .dataframe tbody tr th {\n",
       "        vertical-align: top;\n",
       "    }\n",
       "\n",
       "    .dataframe thead th {\n",
       "        text-align: right;\n",
       "    }\n",
       "</style>\n",
       "<table border=\"1\" class=\"dataframe\">\n",
       "  <thead>\n",
       "    <tr style=\"text-align: right;\">\n",
       "      <th></th>\n",
       "      <th>Date</th>\n",
       "    </tr>\n",
       "    <tr>\n",
       "      <th>ID</th>\n",
       "      <th></th>\n",
       "    </tr>\n",
       "  </thead>\n",
       "  <tbody>\n",
       "    <tr>\n",
       "      <th>EP241990</th>\n",
       "      <td>1990</td>\n",
       "    </tr>\n",
       "    <tr>\n",
       "      <th>EP241992</th>\n",
       "      <td>1992</td>\n",
       "    </tr>\n",
       "    <tr>\n",
       "      <th>EP251992</th>\n",
       "      <td>1992</td>\n",
       "    </tr>\n",
       "    <tr>\n",
       "      <th>EP261992</th>\n",
       "      <td>1992</td>\n",
       "    </tr>\n",
       "    <tr>\n",
       "      <th>EP271992</th>\n",
       "      <td>1992</td>\n",
       "    </tr>\n",
       "  </tbody>\n",
       "</table>\n",
       "</div>"
      ],
      "text/plain": [
       "          Date\n",
       "ID            \n",
       "EP241990  1990\n",
       "EP241992  1992\n",
       "EP251992  1992\n",
       "EP261992  1992\n",
       "EP271992  1992"
      ]
     },
     "execution_count": 24,
     "metadata": {},
     "output_type": "execute_result"
    }
   ],
   "source": [
    "atlantic = pd.read_csv('atlantic.csv')\n",
    "pacific = pd.read_csv('pacific.csv')\n",
    "frames = [atlantic, pacific]\n",
    "hurricanes = pd.concat(frames)\n",
    "by_year = hurricanes.groupby(\"ID\")[\"Date\"].max()\n",
    "by_year_df = by_year.to_frame()\n",
    "\n",
    "by_year_df= by_year_df.astype({\"Date\" : \"string\"})\n",
    "by_year_df.Date = by_year_df.Date.str[:4]\n",
    "by_year_df.head()\n",
    "by_year_df.tail()"
   ]
  },
  {
   "cell_type": "code",
   "execution_count": 34,
   "id": "39a1f750",
   "metadata": {},
   "outputs": [
    {
     "name": "stdout",
     "output_type": "stream",
     "text": [
      "['OBJECTID', 'FOD_ID', 'FPA_ID', 'SOURCE_SYSTEM_TYPE', 'SOURCE_SYSTEM', 'NWCG_REPORTING_AGENCY', 'NWCG_REPORTING_UNIT_ID', 'NWCG_REPORTING_UNIT_NAME', 'SOURCE_REPORTING_UNIT', 'SOURCE_REPORTING_UNIT_NAME', 'LOCAL_FIRE_REPORT_ID', 'LOCAL_INCIDENT_ID', 'FIRE_CODE', 'FIRE_NAME', 'ICS_209_INCIDENT_NUMBER', 'ICS_209_NAME', 'MTBS_ID', 'MTBS_FIRE_NAME', 'COMPLEX_NAME', 'FIRE_YEAR', 'DISCOVERY_DATE', 'DISCOVERY_DOY', 'DISCOVERY_TIME', 'STAT_CAUSE_CODE', 'STAT_CAUSE_DESCR', 'CONT_DATE', 'CONT_DOY', 'CONT_TIME', 'FIRE_SIZE', 'FIRE_SIZE_CLASS', 'LATITUDE', 'LONGITUDE', 'OWNER_CODE', 'OWNER_DESCR', 'STATE', 'COUNTY', 'FIPS_CODE', 'FIPS_NAME', 'Shape']\n"
     ]
    }
   ],
   "source": [
    "con = sqlite3.connect(\"FPA_FOD_20170508.sqlite\")\n",
    "# c = con.cursor()\n",
    "# c.execute(\"SELECT name FROM sqlite_master WHERE type='table';\")\n",
    "# print(c.fetchall())\n",
    "fires_df = pd.read_sql_query(\"SELECT * from Fires\", con)\n",
    "fires_df.head()\n",
    "print(list(fires_df.columns))"
   ]
  },
  {
   "cell_type": "code",
   "execution_count": 43,
   "id": "0755e6d7",
   "metadata": {},
   "outputs": [
    {
     "name": "stdout",
     "output_type": "stream",
     "text": [
      "FIRE_YEAR\n",
      "1992     32.364222\n",
      "1993     35.356208\n",
      "1994     54.198875\n",
      "1995     28.676755\n",
      "1996     79.460604\n",
      "1997     52.313024\n",
      "1998     29.414983\n",
      "1999     68.039342\n",
      "2000     79.234760\n",
      "2001     43.009601\n",
      "2002     89.923580\n",
      "2003     65.682790\n",
      "2004    118.855760\n",
      "2005    109.082041\n",
      "2006     88.097768\n",
      "2007     96.946091\n",
      "2008     63.324652\n",
      "2009     77.333752\n",
      "2010     43.728864\n",
      "2011    106.277026\n",
      "2012    129.724037\n",
      "2013     69.350145\n",
      "2014     54.218860\n",
      "2015    137.174526\n",
      "Name: FIRE_SIZE, dtype: float64\n"
     ]
    }
   ],
   "source": [
    "# print(list(fires_df.columns))\n",
    "years = fires_df.groupby(\"FIRE_YEAR\")[\"OBJECTID\"].count()\n",
    "fire_size = fires_df.groupby(\"FIRE_YEAR\")[\"FIRE_SIZE\"].mean()\n",
    "fire_count_df = years.to_frame()\n",
    "fire_size_df = fire_size.to_frame()\n",
    "print(fire_size)"
   ]
  },
  {
   "cell_type": "code",
   "execution_count": 32,
   "id": "36dc4627",
   "metadata": {},
   "outputs": [],
   "source": [
    "atlantic_wind = atlantic.groupby(\"ID\")[\"Maximum Wind\"].max()\n",
    "pacific_wind = pacific.groupby(\"ID\")[\"Maximum Wind\"].max()"
   ]
  },
  {
   "cell_type": "code",
   "execution_count": 45,
   "id": "2d25263c",
   "metadata": {},
   "outputs": [
    {
     "name": "stdout",
     "output_type": "stream",
     "text": [
      "      FIRE COUNT AVG CO2 EMISSIONS   FIRE_SIZE\n",
      "1992      67.975         19.025082   32.364222\n",
      "1993      61.989         19.238109   35.356208\n",
      "1994      75.955         19.280611   54.198875\n",
      "1995      71.472         19.253938   28.676755\n",
      "1996      75.574          19.61109   79.460604\n",
      "1997      61.450         20.347873   52.313024\n",
      "1998      68.370          20.26688   29.414983\n",
      "1999      89.363          20.10572   68.039342\n",
      "2000      96.416         20.471933   79.234760\n",
      "2001      86.587         20.175005   43.009601\n",
      "2002      75.656         19.449478   89.923580\n",
      "2003      68.261         19.508705   65.682790\n",
      "2004      69.279         19.603573  118.855760\n",
      "2005      88.604         19.478026  109.082041\n",
      "2006     114.004         18.957644   88.097768\n",
      "2007      95.573         19.056027   96.946091\n",
      "2008      85.378         18.294806   63.324652\n",
      "2009      78.325         16.818868   77.333752\n",
      "2010      79.889         17.434196   43.728864\n",
      "2011      90.552         16.599404  106.277026\n",
      "2012      72.769         15.771145  129.724037\n",
      "2013      64.780         16.102958   69.350145\n",
      "2014      67.753         16.026379   54.218860\n",
      "2015      74.491         15.535342  137.174526\n"
     ]
    }
   ],
   "source": [
    "datasets = [fire_count_df[:2015], USA, fire_size_df]\n",
    "to_analyze = pd.concat(datasets, axis=1)\n",
    "to_analyze.rename(columns={'OBJECTID': 'FIRE COUNT', 251: 'AVG CO2 EMISSIONS'}, inplace=True)\n",
    "to_analyze[\"FIRE COUNT\"] = to_analyze[\"FIRE COUNT\"]/1000\n",
    "#fire count represented in thousands\n",
    "print(to_analyze[0:24])"
   ]
  },
  {
   "cell_type": "code",
   "execution_count": null,
   "id": "f1ec18e3",
   "metadata": {},
   "outputs": [],
   "source": []
  }
 ],
 "metadata": {
  "kernelspec": {
   "display_name": "Python 3 (ipykernel)",
   "language": "python",
   "name": "python3"
  },
  "language_info": {
   "codemirror_mode": {
    "name": "ipython",
    "version": 3
   },
   "file_extension": ".py",
   "mimetype": "text/x-python",
   "name": "python",
   "nbconvert_exporter": "python",
   "pygments_lexer": "ipython3",
   "version": "3.9.12"
  }
 },
 "nbformat": 4,
 "nbformat_minor": 5
}
