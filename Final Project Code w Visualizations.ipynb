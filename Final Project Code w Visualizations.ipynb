{
 "cells": [
  {
   "cell_type": "code",
   "execution_count": 1,
   "id": "6748d175",
   "metadata": {},
   "outputs": [],
   "source": [
    "import numpy as np\n",
    "import pandas as pd\n",
    "import seaborn as sns\n",
    "from scipy import stats\n",
    "import sqlite3"
   ]
  },
  {
   "cell_type": "code",
   "execution_count": 2,
   "id": "06a792cf",
   "metadata": {},
   "outputs": [
    {
     "data": {
      "text/html": [
       "<div>\n",
       "<style scoped>\n",
       "    .dataframe tbody tr th:only-of-type {\n",
       "        vertical-align: middle;\n",
       "    }\n",
       "\n",
       "    .dataframe tbody tr th {\n",
       "        vertical-align: top;\n",
       "    }\n",
       "\n",
       "    .dataframe thead th {\n",
       "        text-align: right;\n",
       "    }\n",
       "</style>\n",
       "<table border=\"1\" class=\"dataframe\">\n",
       "  <thead>\n",
       "    <tr style=\"text-align: right;\">\n",
       "      <th></th>\n",
       "      <th>AVG CO2 EMISSIONS</th>\n",
       "    </tr>\n",
       "  </thead>\n",
       "  <tbody>\n",
       "    <tr>\n",
       "      <th>1960</th>\n",
       "      <td>15.999779</td>\n",
       "    </tr>\n",
       "    <tr>\n",
       "      <th>1961</th>\n",
       "      <td>15.681256</td>\n",
       "    </tr>\n",
       "    <tr>\n",
       "      <th>1962</th>\n",
       "      <td>16.013937</td>\n",
       "    </tr>\n",
       "    <tr>\n",
       "      <th>1963</th>\n",
       "      <td>16.482762</td>\n",
       "    </tr>\n",
       "    <tr>\n",
       "      <th>1964</th>\n",
       "      <td>16.968119</td>\n",
       "    </tr>\n",
       "  </tbody>\n",
       "</table>\n",
       "</div>"
      ],
      "text/plain": [
       "      AVG CO2 EMISSIONS\n",
       "1960          15.999779\n",
       "1961          15.681256\n",
       "1962          16.013937\n",
       "1963          16.482762\n",
       "1964          16.968119"
      ]
     },
     "execution_count": 2,
     "metadata": {},
     "output_type": "execute_result"
    }
   ],
   "source": [
    "co2 = pd.read_csv('CO2_Emissions_1960-2018.csv')\n",
    "# co2.head()\n",
    "usa_co2 = co2[co2[\"Country Name\"] == \"United States\"].transpose()\n",
    "usa_co2 = usa_co2[1:].astype('float64')\n",
    "usa_co2 = usa_co2.rename(columns={251: 'AVG CO2 EMISSIONS'})\n",
    "usa_co2.index = usa_co2.index.astype('int64')\n",
    "usa_co2.head()"
   ]
  },
  {
   "cell_type": "code",
   "execution_count": 3,
   "id": "39a1f750",
   "metadata": {},
   "outputs": [],
   "source": [
    "con = sqlite3.connect(\"FPA_FOD_20170508.sqlite\")\n",
    "# c = con.cursor()\n",
    "# c.execute(\"SELECT name FROM sqlite_master WHERE type='table';\")\n",
    "# print(c.fetchall())\n",
    "fires_df = pd.read_sql_query(\"SELECT * from Fires\", con)"
   ]
  },
  {
   "cell_type": "code",
   "execution_count": 4,
   "id": "e46795f4",
   "metadata": {},
   "outputs": [
    {
     "name": "stdout",
     "output_type": "stream",
     "text": [
      "['OBJECTID', 'FOD_ID', 'FPA_ID', 'SOURCE_SYSTEM_TYPE', 'SOURCE_SYSTEM', 'NWCG_REPORTING_AGENCY', 'NWCG_REPORTING_UNIT_ID', 'NWCG_REPORTING_UNIT_NAME', 'SOURCE_REPORTING_UNIT', 'SOURCE_REPORTING_UNIT_NAME', 'LOCAL_FIRE_REPORT_ID', 'LOCAL_INCIDENT_ID', 'FIRE_CODE', 'FIRE_NAME', 'ICS_209_INCIDENT_NUMBER', 'ICS_209_NAME', 'MTBS_ID', 'MTBS_FIRE_NAME', 'COMPLEX_NAME', 'FIRE_YEAR', 'DISCOVERY_DATE', 'DISCOVERY_DOY', 'DISCOVERY_TIME', 'STAT_CAUSE_CODE', 'STAT_CAUSE_DESCR', 'CONT_DATE', 'CONT_DOY', 'CONT_TIME', 'FIRE_SIZE', 'FIRE_SIZE_CLASS', 'LATITUDE', 'LONGITUDE', 'OWNER_CODE', 'OWNER_DESCR', 'STATE', 'COUNTY', 'FIPS_CODE', 'FIPS_NAME', 'Shape']\n"
     ]
    },
    {
     "data": {
      "text/html": [
       "<div>\n",
       "<style scoped>\n",
       "    .dataframe tbody tr th:only-of-type {\n",
       "        vertical-align: middle;\n",
       "    }\n",
       "\n",
       "    .dataframe tbody tr th {\n",
       "        vertical-align: top;\n",
       "    }\n",
       "\n",
       "    .dataframe thead th {\n",
       "        text-align: right;\n",
       "    }\n",
       "</style>\n",
       "<table border=\"1\" class=\"dataframe\">\n",
       "  <thead>\n",
       "    <tr style=\"text-align: right;\">\n",
       "      <th></th>\n",
       "      <th>OBJECTID</th>\n",
       "      <th>FOD_ID</th>\n",
       "      <th>FPA_ID</th>\n",
       "      <th>SOURCE_SYSTEM_TYPE</th>\n",
       "      <th>SOURCE_SYSTEM</th>\n",
       "      <th>NWCG_REPORTING_AGENCY</th>\n",
       "      <th>NWCG_REPORTING_UNIT_ID</th>\n",
       "      <th>NWCG_REPORTING_UNIT_NAME</th>\n",
       "      <th>SOURCE_REPORTING_UNIT</th>\n",
       "      <th>SOURCE_REPORTING_UNIT_NAME</th>\n",
       "      <th>...</th>\n",
       "      <th>FIRE_SIZE_CLASS</th>\n",
       "      <th>LATITUDE</th>\n",
       "      <th>LONGITUDE</th>\n",
       "      <th>OWNER_CODE</th>\n",
       "      <th>OWNER_DESCR</th>\n",
       "      <th>STATE</th>\n",
       "      <th>COUNTY</th>\n",
       "      <th>FIPS_CODE</th>\n",
       "      <th>FIPS_NAME</th>\n",
       "      <th>Shape</th>\n",
       "    </tr>\n",
       "  </thead>\n",
       "  <tbody>\n",
       "    <tr>\n",
       "      <th>0</th>\n",
       "      <td>1</td>\n",
       "      <td>1</td>\n",
       "      <td>FS-1418826</td>\n",
       "      <td>FED</td>\n",
       "      <td>FS-FIRESTAT</td>\n",
       "      <td>FS</td>\n",
       "      <td>USCAPNF</td>\n",
       "      <td>Plumas National Forest</td>\n",
       "      <td>0511</td>\n",
       "      <td>Plumas National Forest</td>\n",
       "      <td>...</td>\n",
       "      <td>A</td>\n",
       "      <td>40.036944</td>\n",
       "      <td>-121.005833</td>\n",
       "      <td>5.0</td>\n",
       "      <td>USFS</td>\n",
       "      <td>CA</td>\n",
       "      <td>63</td>\n",
       "      <td>063</td>\n",
       "      <td>Plumas</td>\n",
       "      <td>b'\\x00\\x01\\xad\\x10\\x00\\x00\\xe8d\\xc2\\x92_@^\\xc0...</td>\n",
       "    </tr>\n",
       "    <tr>\n",
       "      <th>1</th>\n",
       "      <td>2</td>\n",
       "      <td>2</td>\n",
       "      <td>FS-1418827</td>\n",
       "      <td>FED</td>\n",
       "      <td>FS-FIRESTAT</td>\n",
       "      <td>FS</td>\n",
       "      <td>USCAENF</td>\n",
       "      <td>Eldorado National Forest</td>\n",
       "      <td>0503</td>\n",
       "      <td>Eldorado National Forest</td>\n",
       "      <td>...</td>\n",
       "      <td>A</td>\n",
       "      <td>38.933056</td>\n",
       "      <td>-120.404444</td>\n",
       "      <td>5.0</td>\n",
       "      <td>USFS</td>\n",
       "      <td>CA</td>\n",
       "      <td>61</td>\n",
       "      <td>061</td>\n",
       "      <td>Placer</td>\n",
       "      <td>b'\\x00\\x01\\xad\\x10\\x00\\x00T\\xb6\\xeej\\xe2\\x19^\\...</td>\n",
       "    </tr>\n",
       "    <tr>\n",
       "      <th>2</th>\n",
       "      <td>3</td>\n",
       "      <td>3</td>\n",
       "      <td>FS-1418835</td>\n",
       "      <td>FED</td>\n",
       "      <td>FS-FIRESTAT</td>\n",
       "      <td>FS</td>\n",
       "      <td>USCAENF</td>\n",
       "      <td>Eldorado National Forest</td>\n",
       "      <td>0503</td>\n",
       "      <td>Eldorado National Forest</td>\n",
       "      <td>...</td>\n",
       "      <td>A</td>\n",
       "      <td>38.984167</td>\n",
       "      <td>-120.735556</td>\n",
       "      <td>13.0</td>\n",
       "      <td>STATE OR PRIVATE</td>\n",
       "      <td>CA</td>\n",
       "      <td>17</td>\n",
       "      <td>017</td>\n",
       "      <td>El Dorado</td>\n",
       "      <td>b'\\x00\\x01\\xad\\x10\\x00\\x00\\xd0\\xa5\\xa0W\\x13/^\\...</td>\n",
       "    </tr>\n",
       "    <tr>\n",
       "      <th>3</th>\n",
       "      <td>4</td>\n",
       "      <td>4</td>\n",
       "      <td>FS-1418845</td>\n",
       "      <td>FED</td>\n",
       "      <td>FS-FIRESTAT</td>\n",
       "      <td>FS</td>\n",
       "      <td>USCAENF</td>\n",
       "      <td>Eldorado National Forest</td>\n",
       "      <td>0503</td>\n",
       "      <td>Eldorado National Forest</td>\n",
       "      <td>...</td>\n",
       "      <td>A</td>\n",
       "      <td>38.559167</td>\n",
       "      <td>-119.913333</td>\n",
       "      <td>5.0</td>\n",
       "      <td>USFS</td>\n",
       "      <td>CA</td>\n",
       "      <td>3</td>\n",
       "      <td>003</td>\n",
       "      <td>Alpine</td>\n",
       "      <td>b'\\x00\\x01\\xad\\x10\\x00\\x00\\x94\\xac\\xa3\\rt\\xfa]...</td>\n",
       "    </tr>\n",
       "    <tr>\n",
       "      <th>4</th>\n",
       "      <td>5</td>\n",
       "      <td>5</td>\n",
       "      <td>FS-1418847</td>\n",
       "      <td>FED</td>\n",
       "      <td>FS-FIRESTAT</td>\n",
       "      <td>FS</td>\n",
       "      <td>USCAENF</td>\n",
       "      <td>Eldorado National Forest</td>\n",
       "      <td>0503</td>\n",
       "      <td>Eldorado National Forest</td>\n",
       "      <td>...</td>\n",
       "      <td>A</td>\n",
       "      <td>38.559167</td>\n",
       "      <td>-119.933056</td>\n",
       "      <td>5.0</td>\n",
       "      <td>USFS</td>\n",
       "      <td>CA</td>\n",
       "      <td>3</td>\n",
       "      <td>003</td>\n",
       "      <td>Alpine</td>\n",
       "      <td>b'\\x00\\x01\\xad\\x10\\x00\\x00@\\xe3\\xaa.\\xb7\\xfb]\\...</td>\n",
       "    </tr>\n",
       "  </tbody>\n",
       "</table>\n",
       "<p>5 rows × 39 columns</p>\n",
       "</div>"
      ],
      "text/plain": [
       "   OBJECTID  FOD_ID      FPA_ID SOURCE_SYSTEM_TYPE SOURCE_SYSTEM  \\\n",
       "0         1       1  FS-1418826                FED   FS-FIRESTAT   \n",
       "1         2       2  FS-1418827                FED   FS-FIRESTAT   \n",
       "2         3       3  FS-1418835                FED   FS-FIRESTAT   \n",
       "3         4       4  FS-1418845                FED   FS-FIRESTAT   \n",
       "4         5       5  FS-1418847                FED   FS-FIRESTAT   \n",
       "\n",
       "  NWCG_REPORTING_AGENCY NWCG_REPORTING_UNIT_ID  NWCG_REPORTING_UNIT_NAME  \\\n",
       "0                    FS                USCAPNF    Plumas National Forest   \n",
       "1                    FS                USCAENF  Eldorado National Forest   \n",
       "2                    FS                USCAENF  Eldorado National Forest   \n",
       "3                    FS                USCAENF  Eldorado National Forest   \n",
       "4                    FS                USCAENF  Eldorado National Forest   \n",
       "\n",
       "  SOURCE_REPORTING_UNIT SOURCE_REPORTING_UNIT_NAME  ... FIRE_SIZE_CLASS  \\\n",
       "0                  0511     Plumas National Forest  ...               A   \n",
       "1                  0503   Eldorado National Forest  ...               A   \n",
       "2                  0503   Eldorado National Forest  ...               A   \n",
       "3                  0503   Eldorado National Forest  ...               A   \n",
       "4                  0503   Eldorado National Forest  ...               A   \n",
       "\n",
       "    LATITUDE   LONGITUDE OWNER_CODE       OWNER_DESCR STATE COUNTY FIPS_CODE  \\\n",
       "0  40.036944 -121.005833        5.0              USFS    CA     63       063   \n",
       "1  38.933056 -120.404444        5.0              USFS    CA     61       061   \n",
       "2  38.984167 -120.735556       13.0  STATE OR PRIVATE    CA     17       017   \n",
       "3  38.559167 -119.913333        5.0              USFS    CA      3       003   \n",
       "4  38.559167 -119.933056        5.0              USFS    CA      3       003   \n",
       "\n",
       "   FIPS_NAME                                              Shape  \n",
       "0     Plumas  b'\\x00\\x01\\xad\\x10\\x00\\x00\\xe8d\\xc2\\x92_@^\\xc0...  \n",
       "1     Placer  b'\\x00\\x01\\xad\\x10\\x00\\x00T\\xb6\\xeej\\xe2\\x19^\\...  \n",
       "2  El Dorado  b'\\x00\\x01\\xad\\x10\\x00\\x00\\xd0\\xa5\\xa0W\\x13/^\\...  \n",
       "3     Alpine  b'\\x00\\x01\\xad\\x10\\x00\\x00\\x94\\xac\\xa3\\rt\\xfa]...  \n",
       "4     Alpine  b'\\x00\\x01\\xad\\x10\\x00\\x00@\\xe3\\xaa.\\xb7\\xfb]\\...  \n",
       "\n",
       "[5 rows x 39 columns]"
      ]
     },
     "execution_count": 4,
     "metadata": {},
     "output_type": "execute_result"
    }
   ],
   "source": [
    "print(list(fires_df.columns))\n",
    "fires_df.head()"
   ]
  },
  {
   "cell_type": "markdown",
   "id": "81ef9ae9",
   "metadata": {},
   "source": [
    "## Fires and Emissions"
   ]
  },
  {
   "cell_type": "code",
   "execution_count": 5,
   "id": "0755e6d7",
   "metadata": {},
   "outputs": [],
   "source": [
    "fire_count_df = fires_df.groupby(\"FIRE_YEAR\")[\"OBJECTID\"].count().to_frame().astype('float64')\n",
    "fire_size_df = fires_df.groupby(\"FIRE_YEAR\")[\"FIRE_SIZE\"].mean().to_frame().astype('float64')\n",
    "# print(fire_size_df)\n",
    "# usa_co2.loc[1992:2015]"
   ]
  },
  {
   "cell_type": "code",
   "execution_count": 6,
   "id": "e4568502",
   "metadata": {},
   "outputs": [
    {
     "data": {
      "text/html": [
       "<div>\n",
       "<style scoped>\n",
       "    .dataframe tbody tr th:only-of-type {\n",
       "        vertical-align: middle;\n",
       "    }\n",
       "\n",
       "    .dataframe tbody tr th {\n",
       "        vertical-align: top;\n",
       "    }\n",
       "\n",
       "    .dataframe thead th {\n",
       "        text-align: right;\n",
       "    }\n",
       "</style>\n",
       "<table border=\"1\" class=\"dataframe\">\n",
       "  <thead>\n",
       "    <tr style=\"text-align: right;\">\n",
       "      <th></th>\n",
       "      <th>FIRE COUNT</th>\n",
       "      <th>AVG CO2 EMISSIONS</th>\n",
       "      <th>FIRE_SIZE</th>\n",
       "    </tr>\n",
       "  </thead>\n",
       "  <tbody>\n",
       "    <tr>\n",
       "      <th>1992</th>\n",
       "      <td>67.975</td>\n",
       "      <td>19.025082</td>\n",
       "      <td>32.364222</td>\n",
       "    </tr>\n",
       "    <tr>\n",
       "      <th>1993</th>\n",
       "      <td>61.989</td>\n",
       "      <td>19.238109</td>\n",
       "      <td>35.356208</td>\n",
       "    </tr>\n",
       "    <tr>\n",
       "      <th>1994</th>\n",
       "      <td>75.955</td>\n",
       "      <td>19.280611</td>\n",
       "      <td>54.198875</td>\n",
       "    </tr>\n",
       "    <tr>\n",
       "      <th>1995</th>\n",
       "      <td>71.472</td>\n",
       "      <td>19.253938</td>\n",
       "      <td>28.676755</td>\n",
       "    </tr>\n",
       "    <tr>\n",
       "      <th>1996</th>\n",
       "      <td>75.574</td>\n",
       "      <td>19.611090</td>\n",
       "      <td>79.460604</td>\n",
       "    </tr>\n",
       "    <tr>\n",
       "      <th>1997</th>\n",
       "      <td>61.450</td>\n",
       "      <td>20.347873</td>\n",
       "      <td>52.313024</td>\n",
       "    </tr>\n",
       "    <tr>\n",
       "      <th>1998</th>\n",
       "      <td>68.370</td>\n",
       "      <td>20.266880</td>\n",
       "      <td>29.414983</td>\n",
       "    </tr>\n",
       "    <tr>\n",
       "      <th>1999</th>\n",
       "      <td>89.363</td>\n",
       "      <td>20.105720</td>\n",
       "      <td>68.039342</td>\n",
       "    </tr>\n",
       "    <tr>\n",
       "      <th>2000</th>\n",
       "      <td>96.416</td>\n",
       "      <td>20.471933</td>\n",
       "      <td>79.234760</td>\n",
       "    </tr>\n",
       "    <tr>\n",
       "      <th>2001</th>\n",
       "      <td>86.587</td>\n",
       "      <td>20.175005</td>\n",
       "      <td>43.009601</td>\n",
       "    </tr>\n",
       "    <tr>\n",
       "      <th>2002</th>\n",
       "      <td>75.656</td>\n",
       "      <td>19.449478</td>\n",
       "      <td>89.923580</td>\n",
       "    </tr>\n",
       "    <tr>\n",
       "      <th>2003</th>\n",
       "      <td>68.261</td>\n",
       "      <td>19.508705</td>\n",
       "      <td>65.682790</td>\n",
       "    </tr>\n",
       "    <tr>\n",
       "      <th>2004</th>\n",
       "      <td>69.279</td>\n",
       "      <td>19.603573</td>\n",
       "      <td>118.855760</td>\n",
       "    </tr>\n",
       "    <tr>\n",
       "      <th>2005</th>\n",
       "      <td>88.604</td>\n",
       "      <td>19.478026</td>\n",
       "      <td>109.082041</td>\n",
       "    </tr>\n",
       "    <tr>\n",
       "      <th>2006</th>\n",
       "      <td>114.004</td>\n",
       "      <td>18.957644</td>\n",
       "      <td>88.097768</td>\n",
       "    </tr>\n",
       "    <tr>\n",
       "      <th>2007</th>\n",
       "      <td>95.573</td>\n",
       "      <td>19.056027</td>\n",
       "      <td>96.946091</td>\n",
       "    </tr>\n",
       "    <tr>\n",
       "      <th>2008</th>\n",
       "      <td>85.378</td>\n",
       "      <td>18.294806</td>\n",
       "      <td>63.324652</td>\n",
       "    </tr>\n",
       "    <tr>\n",
       "      <th>2009</th>\n",
       "      <td>78.325</td>\n",
       "      <td>16.818868</td>\n",
       "      <td>77.333752</td>\n",
       "    </tr>\n",
       "    <tr>\n",
       "      <th>2010</th>\n",
       "      <td>79.889</td>\n",
       "      <td>17.434196</td>\n",
       "      <td>43.728864</td>\n",
       "    </tr>\n",
       "    <tr>\n",
       "      <th>2011</th>\n",
       "      <td>90.552</td>\n",
       "      <td>16.599404</td>\n",
       "      <td>106.277026</td>\n",
       "    </tr>\n",
       "    <tr>\n",
       "      <th>2012</th>\n",
       "      <td>72.769</td>\n",
       "      <td>15.771145</td>\n",
       "      <td>129.724037</td>\n",
       "    </tr>\n",
       "    <tr>\n",
       "      <th>2013</th>\n",
       "      <td>64.780</td>\n",
       "      <td>16.102958</td>\n",
       "      <td>69.350145</td>\n",
       "    </tr>\n",
       "    <tr>\n",
       "      <th>2014</th>\n",
       "      <td>67.753</td>\n",
       "      <td>16.026379</td>\n",
       "      <td>54.218860</td>\n",
       "    </tr>\n",
       "    <tr>\n",
       "      <th>2015</th>\n",
       "      <td>74.491</td>\n",
       "      <td>15.535342</td>\n",
       "      <td>137.174526</td>\n",
       "    </tr>\n",
       "  </tbody>\n",
       "</table>\n",
       "</div>"
      ],
      "text/plain": [
       "      FIRE COUNT  AVG CO2 EMISSIONS   FIRE_SIZE\n",
       "1992      67.975          19.025082   32.364222\n",
       "1993      61.989          19.238109   35.356208\n",
       "1994      75.955          19.280611   54.198875\n",
       "1995      71.472          19.253938   28.676755\n",
       "1996      75.574          19.611090   79.460604\n",
       "1997      61.450          20.347873   52.313024\n",
       "1998      68.370          20.266880   29.414983\n",
       "1999      89.363          20.105720   68.039342\n",
       "2000      96.416          20.471933   79.234760\n",
       "2001      86.587          20.175005   43.009601\n",
       "2002      75.656          19.449478   89.923580\n",
       "2003      68.261          19.508705   65.682790\n",
       "2004      69.279          19.603573  118.855760\n",
       "2005      88.604          19.478026  109.082041\n",
       "2006     114.004          18.957644   88.097768\n",
       "2007      95.573          19.056027   96.946091\n",
       "2008      85.378          18.294806   63.324652\n",
       "2009      78.325          16.818868   77.333752\n",
       "2010      79.889          17.434196   43.728864\n",
       "2011      90.552          16.599404  106.277026\n",
       "2012      72.769          15.771145  129.724037\n",
       "2013      64.780          16.102958   69.350145\n",
       "2014      67.753          16.026379   54.218860\n",
       "2015      74.491          15.535342  137.174526"
      ]
     },
     "execution_count": 6,
     "metadata": {},
     "output_type": "execute_result"
    }
   ],
   "source": [
    "to_analyze = pd.concat([fire_count_df[:2015], usa_co2.loc[1992:2015], fire_size_df], axis=1)\n",
    "to_analyze.rename(columns={'OBJECTID': 'FIRE COUNT'}, inplace=True)\n",
    "to_analyze[\"FIRE COUNT\"] /= 1000\n",
    "# fire count represented in thousands\n",
    "# co2 is metric tons per capita\n",
    "# fire size is avg size of all fires in that year\n",
    "to_analyze"
   ]
  },
  {
   "cell_type": "code",
   "execution_count": 7,
   "id": "d4b7b798",
   "metadata": {
    "scrolled": true
   },
   "outputs": [
    {
     "data": {
      "text/plain": [
       "<AxesSubplot:ylabel='AVG CO2 EMISSIONS'>"
      ]
     },
     "execution_count": 7,
     "metadata": {},
     "output_type": "execute_result"
    },
    {
     "data": {
      "image/png": "[encoded data removed]",
      "text/plain": [
       "<Figure size 432x288 with 1 Axes>"
      ]
     },
     "metadata": {
      "needs_background": "light"
     },
     "output_type": "display_data"
    }
   ],
   "source": [
    "sns.lineplot(data=to_analyze,x=to_analyze.index,y=\"AVG CO2 EMISSIONS\",label=\"AVG CO2 EMISSIONS\")"
   ]
  },
  {
   "cell_type": "code",
   "execution_count": 8,
   "id": "a43cef2b",
   "metadata": {},
   "outputs": [
    {
     "data": {
      "text/plain": [
       "<AxesSubplot:ylabel='FIRE COUNT'>"
      ]
     },
     "execution_count": 8,
     "metadata": {},
     "output_type": "execute_result"
    },
    {
     "data": {
      "image/png": "[encoded data removed]",
      "text/plain": [
       "<Figure size 432x288 with 1 Axes>"
      ]
     },
     "metadata": {
      "needs_background": "light"
     },
     "output_type": "display_data"
    }
   ],
   "source": [
    "sns.lineplot(data=to_analyze,x=to_analyze.index,y=\"FIRE COUNT\",label=\"FIRE COUNT (in thousands of fires)\")"
   ]
  },
  {
   "cell_type": "code",
   "execution_count": 9,
   "id": "d021e43d",
   "metadata": {},
   "outputs": [
    {
     "data": {
      "text/plain": [
       "<seaborn.axisgrid.FacetGrid at 0x7fec849872e0>"
      ]
     },
     "execution_count": 9,
     "metadata": {},
     "output_type": "execute_result"
    },
    {
     "data": {
      "image/png": "[encoded data removed]",
      "text/plain": [
       "<Figure size 417x360 with 1 Axes>"
      ]
     },
     "metadata": {
      "needs_background": "light"
     },
     "output_type": "display_data"
    }
   ],
   "source": [
    "sns.relplot(x=\"AVG CO2 EMISSIONS\",y=\"FIRE COUNT\",data=to_analyze,hue='FIRE_SIZE')"
   ]
  },
  {
   "cell_type": "code",
   "execution_count": 10,
   "id": "0f6b91e8",
   "metadata": {},
   "outputs": [
    {
     "data": {
      "text/plain": [
       "<seaborn.axisgrid.FacetGrid at 0x7fec16752670>"
      ]
     },
     "execution_count": 10,
     "metadata": {},
     "output_type": "execute_result"
    },
    {
     "data": {
      "image/png": "[encoded data removed]",
      "text/plain": [
       "<Figure size 360x360 with 1 Axes>"
      ]
     },
     "metadata": {
      "needs_background": "light"
     },
     "output_type": "display_data"
    }
   ],
   "source": [
    "sns.relplot(x=\"LONGITUDE\",y=\"LATITUDE\",data=fires_df)"
   ]
  },
  {
   "cell_type": "code",
   "execution_count": 11,
   "id": "f8f8ba8b",
   "metadata": {},
   "outputs": [
    {
     "data": {
      "text/plain": [
       "65"
      ]
     },
     "execution_count": 11,
     "metadata": {},
     "output_type": "execute_result"
    }
   ],
   "source": [
    "query = \"\"\" SELECT LONGITUDE,LATITUDE,FIRE_SIZE\n",
    "FROM Fires\n",
    "WHERE FIRE_SIZE > 200000; \"\"\"\n",
    "significant_fires = pd.read_sql(query, con)\n",
    "significant_fires.shape[0]"
   ]
  },
  {
   "cell_type": "code",
   "execution_count": 12,
   "id": "46862ce1",
   "metadata": {},
   "outputs": [
    {
     "data": {
      "text/plain": [
       "<seaborn.axisgrid.FacetGrid at 0x7febcb911160>"
      ]
     },
     "execution_count": 12,
     "metadata": {},
     "output_type": "execute_result"
    },
    {
     "data": {
      "image/png": "[encoded data removed]",
      "text/plain": [
       "<Figure size 434.25x360 with 1 Axes>"
      ]
     },
     "metadata": {
      "needs_background": "light"
     },
     "output_type": "display_data"
    }
   ],
   "source": [
    "sns.relplot(x=\"LONGITUDE\",y=\"LATITUDE\",data=significant_fires,hue='FIRE_SIZE')"
   ]
  },
  {
   "cell_type": "code",
   "execution_count": 13,
   "id": "29a20439",
   "metadata": {},
   "outputs": [
    {
     "name": "stdout",
     "output_type": "stream",
     "text": [
      "Correlation between year and fire count: 0.1902833441484184, p = 0.37314017687484163\n",
      "Correlation between year and fire size: 0.5874207511727356, p = 0.00254348274431142\n",
      "Correlation between emissions and fire count: 0.13374465731313984, p = 0.5332556656809394\n",
      "Correlation between emissions and fire size: -0.39711849247592, p = 0.05467041098069223\n"
     ]
    }
   ],
   "source": [
    "# print(to_analyze['AVG CO2 EMISSIONS'].corr(to_analyze['FIRE COUNT']))\n",
    "cor_yr_count, p_yr_count = stats.pearsonr(to_analyze.index, to_analyze['FIRE COUNT'])\n",
    "cor_yr_size, p_yr_size = stats.pearsonr(to_analyze.index, to_analyze['FIRE_SIZE'])\n",
    "print(f'Correlation between year and fire count: {cor_yr_count}, p = {p_yr_count}')\n",
    "print(f'Correlation between year and fire size: {cor_yr_size}, p = {p_yr_size}')\n",
    "\n",
    "cor_co2_count, p_co2_count = stats.pearsonr(to_analyze['AVG CO2 EMISSIONS'], to_analyze['FIRE COUNT'])\n",
    "cor_co2_size, p_co2_size = stats.pearsonr(to_analyze['AVG CO2 EMISSIONS'], to_analyze['FIRE_SIZE'])\n",
    "print(f'Correlation between emissions and fire count: {cor_co2_count}, p = {p_co2_count}')\n",
    "print(f'Correlation between emissions and fire size: {cor_co2_size}, p = {p_co2_size}')"
   ]
  },
  {
   "cell_type": "markdown",
   "id": "2913d373",
   "metadata": {},
   "source": [
    "## Fires by Region"
   ]
  },
  {
   "cell_type": "code",
   "execution_count": 14,
   "id": "a01a62b4",
   "metadata": {},
   "outputs": [
    {
     "name": "stdout",
     "output_type": "stream",
     "text": [
      "915441\n",
      "965024\n"
     ]
    }
   ],
   "source": [
    "east = [\"ME\",\"NH\",\"VT\",\"MA\",\"RI\",\"CT\",\"NJ\",\"DE\",\"MD\",\"NY\",\"PA\",\"VA\",\"WV\",\"NC\",\"SC\",\"GA\",\"FL\",\"OH\",\"KY\",\"TN\",\"AL\",\"MS\",\"WI\",\"IL\",\"IN\",\"MI\",\"DC\",\"PR\"]\n",
    "west = [\"WA\",\"OR\",\"CA\",\"NV\",\"ID\",\"UT\",\"AZ\",\"MT\",\"AK\",\"HI\",\"WY\",\"CO\",\"NM\",\"TX\",\"ND\",\"SD\",\"NE\",\"KS\",\"OK\",\"LA\",\"AR\",\"MO\",\"IA\",\"MN\"]\n",
    "\n",
    "by_state = fires_df.groupby(\"STATE\")[\"OBJECTID\"].count().to_frame()\n",
    "east_fires = fires_df[fires_df[\"STATE\"].isin(east)]\n",
    "west_fires = fires_df[fires_df[\"STATE\"].isin(west)]\n",
    "print(east_fires.shape[0])\n",
    "print(west_fires.shape[0])"
   ]
  },
  {
   "cell_type": "markdown",
   "id": "dc0333b3",
   "metadata": {},
   "source": [
    "## Hypothesis Tests"
   ]
  },
  {
   "cell_type": "code",
   "execution_count": 15,
   "id": "f2c77dc8",
   "metadata": {},
   "outputs": [
    {
     "name": "stdout",
     "output_type": "stream",
     "text": [
      "CO2 emissions in 1992 (metric tons per capita): 19.0250824516401\n",
      "CO2 emissions in 2015 (metric tons per capita): 15.535342110601\n",
      "\n",
      "\n",
      "Number of fires in 1992 (in thousands): 67.975\n",
      "Number of fires in 2015 (in thousands): 74.491\n",
      "p = 1.1136494692499627e-26\n",
      "\n",
      "Average fire size in 1992: 32.364222155204125\n",
      "Average fire size in 2015: 137.17452602059308\n",
      "p = 7.470467732874323e-11\n"
     ]
    }
   ],
   "source": [
    "# null: no effect of CO2 emissions on number of wildfires\n",
    "# alt: rising CO2 emissions -> rising number of wildfires\n",
    "print(f'CO2 emissions in 1992 (metric tons per capita): {to_analyze[\"AVG CO2 EMISSIONS\"][1992]}')\n",
    "print(f'CO2 emissions in 2015 (metric tons per capita): {to_analyze[\"AVG CO2 EMISSIONS\"][2015]}')\n",
    "print('\\n')\n",
    "print(f'Number of fires in 1992 (in thousands): {to_analyze[\"FIRE COUNT\"][1992]}')\n",
    "print(f'Number of fires in 2015 (in thousands): {to_analyze[\"FIRE COUNT\"][2015]}')\n",
    "\n",
    "result_num_co2 = stats.ttest_ind(to_analyze[\"AVG CO2 EMISSIONS\"], to_analyze[\"FIRE COUNT\"])\n",
    "print(f'p = {result_num_co2.pvalue}\\n')\n",
    "\n",
    "# null: no effect of CO2 emissions on size of wildfires\n",
    "# alt: rising CO2 emissions -> increasing size of wildfires\n",
    "print(f'Average fire size in 1992: {to_analyze[\"FIRE_SIZE\"][1992]}')\n",
    "print(f'Average fire size in 2015: {to_analyze[\"FIRE_SIZE\"][2015]}')\n",
    "\n",
    "result_size_co2 = stats.ttest_ind(to_analyze[\"AVG CO2 EMISSIONS\"], to_analyze[\"FIRE_SIZE\"])\n",
    "print(f'p = {result_size_co2.pvalue}')"
   ]
  },
  {
   "cell_type": "code",
   "execution_count": 16,
   "id": "fd1a2349",
   "metadata": {},
   "outputs": [
    {
     "name": "stdout",
     "output_type": "stream",
     "text": [
      "Average size for west: 132.14762698101538\n",
      "Average size for east: 13.771415058154375\n",
      "p = 1.4599337974742351e-231\n",
      "\n",
      "Average fires per year for west: 40209.333333333336\n",
      "Average fires per year for east: 38143.375\n",
      "p = 0.38535\n"
     ]
    }
   ],
   "source": [
    "# null: no difference in average size of east and west fires\n",
    "# alt: difference between east and west -> disproportionate impact in terms of size\n",
    "print(f'Average size for west: {west_fires[\"FIRE_SIZE\"].mean()}')\n",
    "print(f'Average size for east: {east_fires[\"FIRE_SIZE\"].mean()}')\n",
    "\n",
    "result_size = stats.ttest_ind(west_fires[\"FIRE_SIZE\"], east_fires[\"FIRE_SIZE\"])\n",
    "print(f'p = {result_size.pvalue}\\n')\n",
    "\n",
    "# null: no difference in frequency (fires per year) of east and west\n",
    "# alt: difference between east and west -> disproportionate impact in terms of frequency\n",
    "years_east = east_fires.groupby('FIRE_YEAR')['OBJECTID'].count()\n",
    "years_west = west_fires.groupby('FIRE_YEAR')['OBJECTID'].count()\n",
    "\n",
    "np.random.seed(216)\n",
    "result_years = stats.ttest_ind(years_west, years_east, permutations=20000)\n",
    "\n",
    "print(f'Average fires per year for west: {years_west.mean()}')\n",
    "print(f'Average fires per year for east: {years_east.mean()}')\n",
    "print(f'p = {result_years.pvalue}')"
   ]
  }
 ],
 "metadata": {
  "kernelspec": {
   "display_name": "Python 3 (ipykernel)",
   "language": "python",
   "name": "python3"
  },
  "language_info": {
   "codemirror_mode": {
    "name": "ipython",
    "version": 3
   },
   "file_extension": ".py",
   "mimetype": "text/x-python",
   "name": "python",
   "nbconvert_exporter": "python",
   "pygments_lexer": "ipython3",
   "version": "3.9.12"
  }
 },
 "nbformat": 4,
 "nbformat_minor": 5
}
